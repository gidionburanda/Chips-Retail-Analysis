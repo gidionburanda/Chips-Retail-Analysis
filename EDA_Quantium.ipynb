{
  "nbformat": 4,
  "nbformat_minor": 0,
  "metadata": {
    "colab": {
      "provenance": []
    },
    "kernelspec": {
      "name": "python3",
      "display_name": "Python 3"
    },
    "language_info": {
      "name": "python"
    }
  },
  "cells": [
    {
      "cell_type": "code",
      "execution_count": null,
      "metadata": {
        "id": "rT962Uc0MqQe"
      },
      "outputs": [],
      "source": [
        "import pandas as pd\n",
        "import numpy as np\n",
        "import os\n",
        "import matplotlib.pyplot as plt\n",
        "import seaborn as sns"
      ]
    },
    {
      "cell_type": "code",
      "source": [
        "df = pd.read_csv(\"/content/QVI_data.csv\")\n",
        "df"
      ],
      "metadata": {
        "colab": {
          "base_uri": "https://localhost:8080/",
          "height": 852
        },
        "id": "ofUqUZnkNHFU",
        "outputId": "85afb840-bcd1-4234-de79-b5a237baded0"
      },
      "execution_count": null,
      "outputs": [
        {
          "output_type": "execute_result",
          "data": {
            "text/plain": [
              "        LYLTY_CARD_NBR        DATE  STORE_NBR  TXN_ID  PROD_NBR  \\\n",
              "0                 1000  2018-10-17          1       1         5   \n",
              "1                 1002  2018-09-16          1       2        58   \n",
              "2                 1003  2019-03-07          1       3        52   \n",
              "3                 1003  2019-03-08          1       4       106   \n",
              "4                 1004  2018-11-02          1       5        96   \n",
              "...                ...         ...        ...     ...       ...   \n",
              "264829         2370701  2018-12-08         88  240378        24   \n",
              "264830         2370751  2018-10-01         88  240394        60   \n",
              "264831         2370961  2018-10-24         88  240480        70   \n",
              "264832         2370961  2018-10-27         88  240481        65   \n",
              "264833         2373711  2018-12-14         88  241815        16   \n",
              "\n",
              "                                       PROD_NAME  PROD_QTY  TOT_SALES  \\\n",
              "0         Natural Chip        Compny SeaSalt175g         2        6.0   \n",
              "1          Red Rock Deli Chikn&Garlic Aioli 150g         1        2.7   \n",
              "2          Grain Waves Sour    Cream&Chives 210G         1        3.6   \n",
              "3         Natural ChipCo      Hony Soy Chckn175g         1        3.0   \n",
              "4                 WW Original Stacked Chips 160g         1        1.9   \n",
              "...                                          ...       ...        ...   \n",
              "264829     Grain Waves         Sweet Chilli 210g         2        7.2   \n",
              "264830      Kettle Tortilla ChpsFeta&Garlic 150g         2        9.2   \n",
              "264831   Tyrrells Crisps     Lightly Salted 165g         2        8.4   \n",
              "264832  Old El Paso Salsa   Dip Chnky Tom Ht300g         2       10.2   \n",
              "264833  Smiths Crinkle Chips Salt & Vinegar 330g         2       11.4   \n",
              "\n",
              "        PACK_SIZE       BRAND              LIFESTAGE PREMIUM_CUSTOMER  \n",
              "0             175     NATURAL  YOUNG SINGLES/COUPLES          Premium  \n",
              "1             150         RRD  YOUNG SINGLES/COUPLES       Mainstream  \n",
              "2             210     GRNWVES         YOUNG FAMILIES           Budget  \n",
              "3             175     NATURAL         YOUNG FAMILIES           Budget  \n",
              "4             160  WOOLWORTHS  OLDER SINGLES/COUPLES       Mainstream  \n",
              "...           ...         ...                    ...              ...  \n",
              "264829        210     GRNWVES         YOUNG FAMILIES       Mainstream  \n",
              "264830        150      KETTLE         YOUNG FAMILIES          Premium  \n",
              "264831        165    TYRRELLS         OLDER FAMILIES           Budget  \n",
              "264832        300         OLD         OLDER FAMILIES           Budget  \n",
              "264833        330      SMITHS  YOUNG SINGLES/COUPLES       Mainstream  \n",
              "\n",
              "[264834 rows x 12 columns]"
            ],
            "text/html": [
              "\n",
              "\n",
              "  <div id=\"df-1097cca7-f14c-4ce2-aad6-4abf852ff0c7\">\n",
              "    <div class=\"colab-df-container\">\n",
              "      <div>\n",
              "<style scoped>\n",
              "    .dataframe tbody tr th:only-of-type {\n",
              "        vertical-align: middle;\n",
              "    }\n",
              "\n",
              "    .dataframe tbody tr th {\n",
              "        vertical-align: top;\n",
              "    }\n",
              "\n",
              "    .dataframe thead th {\n",
              "        text-align: right;\n",
              "    }\n",
              "</style>\n",
              "<table border=\"1\" class=\"dataframe\">\n",
              "  <thead>\n",
              "    <tr style=\"text-align: right;\">\n",
              "      <th></th>\n",
              "      <th>LYLTY_CARD_NBR</th>\n",
              "      <th>DATE</th>\n",
              "      <th>STORE_NBR</th>\n",
              "      <th>TXN_ID</th>\n",
              "      <th>PROD_NBR</th>\n",
              "      <th>PROD_NAME</th>\n",
              "      <th>PROD_QTY</th>\n",
              "      <th>TOT_SALES</th>\n",
              "      <th>PACK_SIZE</th>\n",
              "      <th>BRAND</th>\n",
              "      <th>LIFESTAGE</th>\n",
              "      <th>PREMIUM_CUSTOMER</th>\n",
              "    </tr>\n",
              "  </thead>\n",
              "  <tbody>\n",
              "    <tr>\n",
              "      <th>0</th>\n",
              "      <td>1000</td>\n",
              "      <td>2018-10-17</td>\n",
              "      <td>1</td>\n",
              "      <td>1</td>\n",
              "      <td>5</td>\n",
              "      <td>Natural Chip        Compny SeaSalt175g</td>\n",
              "      <td>2</td>\n",
              "      <td>6.0</td>\n",
              "      <td>175</td>\n",
              "      <td>NATURAL</td>\n",
              "      <td>YOUNG SINGLES/COUPLES</td>\n",
              "      <td>Premium</td>\n",
              "    </tr>\n",
              "    <tr>\n",
              "      <th>1</th>\n",
              "      <td>1002</td>\n",
              "      <td>2018-09-16</td>\n",
              "      <td>1</td>\n",
              "      <td>2</td>\n",
              "      <td>58</td>\n",
              "      <td>Red Rock Deli Chikn&amp;Garlic Aioli 150g</td>\n",
              "      <td>1</td>\n",
              "      <td>2.7</td>\n",
              "      <td>150</td>\n",
              "      <td>RRD</td>\n",
              "      <td>YOUNG SINGLES/COUPLES</td>\n",
              "      <td>Mainstream</td>\n",
              "    </tr>\n",
              "    <tr>\n",
              "      <th>2</th>\n",
              "      <td>1003</td>\n",
              "      <td>2019-03-07</td>\n",
              "      <td>1</td>\n",
              "      <td>3</td>\n",
              "      <td>52</td>\n",
              "      <td>Grain Waves Sour    Cream&amp;Chives 210G</td>\n",
              "      <td>1</td>\n",
              "      <td>3.6</td>\n",
              "      <td>210</td>\n",
              "      <td>GRNWVES</td>\n",
              "      <td>YOUNG FAMILIES</td>\n",
              "      <td>Budget</td>\n",
              "    </tr>\n",
              "    <tr>\n",
              "      <th>3</th>\n",
              "      <td>1003</td>\n",
              "      <td>2019-03-08</td>\n",
              "      <td>1</td>\n",
              "      <td>4</td>\n",
              "      <td>106</td>\n",
              "      <td>Natural ChipCo      Hony Soy Chckn175g</td>\n",
              "      <td>1</td>\n",
              "      <td>3.0</td>\n",
              "      <td>175</td>\n",
              "      <td>NATURAL</td>\n",
              "      <td>YOUNG FAMILIES</td>\n",
              "      <td>Budget</td>\n",
              "    </tr>\n",
              "    <tr>\n",
              "      <th>4</th>\n",
              "      <td>1004</td>\n",
              "      <td>2018-11-02</td>\n",
              "      <td>1</td>\n",
              "      <td>5</td>\n",
              "      <td>96</td>\n",
              "      <td>WW Original Stacked Chips 160g</td>\n",
              "      <td>1</td>\n",
              "      <td>1.9</td>\n",
              "      <td>160</td>\n",
              "      <td>WOOLWORTHS</td>\n",
              "      <td>OLDER SINGLES/COUPLES</td>\n",
              "      <td>Mainstream</td>\n",
              "    </tr>\n",
              "    <tr>\n",
              "      <th>...</th>\n",
              "      <td>...</td>\n",
              "      <td>...</td>\n",
              "      <td>...</td>\n",
              "      <td>...</td>\n",
              "      <td>...</td>\n",
              "      <td>...</td>\n",
              "      <td>...</td>\n",
              "      <td>...</td>\n",
              "      <td>...</td>\n",
              "      <td>...</td>\n",
              "      <td>...</td>\n",
              "      <td>...</td>\n",
              "    </tr>\n",
              "    <tr>\n",
              "      <th>264829</th>\n",
              "      <td>2370701</td>\n",
              "      <td>2018-12-08</td>\n",
              "      <td>88</td>\n",
              "      <td>240378</td>\n",
              "      <td>24</td>\n",
              "      <td>Grain Waves         Sweet Chilli 210g</td>\n",
              "      <td>2</td>\n",
              "      <td>7.2</td>\n",
              "      <td>210</td>\n",
              "      <td>GRNWVES</td>\n",
              "      <td>YOUNG FAMILIES</td>\n",
              "      <td>Mainstream</td>\n",
              "    </tr>\n",
              "    <tr>\n",
              "      <th>264830</th>\n",
              "      <td>2370751</td>\n",
              "      <td>2018-10-01</td>\n",
              "      <td>88</td>\n",
              "      <td>240394</td>\n",
              "      <td>60</td>\n",
              "      <td>Kettle Tortilla ChpsFeta&amp;Garlic 150g</td>\n",
              "      <td>2</td>\n",
              "      <td>9.2</td>\n",
              "      <td>150</td>\n",
              "      <td>KETTLE</td>\n",
              "      <td>YOUNG FAMILIES</td>\n",
              "      <td>Premium</td>\n",
              "    </tr>\n",
              "    <tr>\n",
              "      <th>264831</th>\n",
              "      <td>2370961</td>\n",
              "      <td>2018-10-24</td>\n",
              "      <td>88</td>\n",
              "      <td>240480</td>\n",
              "      <td>70</td>\n",
              "      <td>Tyrrells Crisps     Lightly Salted 165g</td>\n",
              "      <td>2</td>\n",
              "      <td>8.4</td>\n",
              "      <td>165</td>\n",
              "      <td>TYRRELLS</td>\n",
              "      <td>OLDER FAMILIES</td>\n",
              "      <td>Budget</td>\n",
              "    </tr>\n",
              "    <tr>\n",
              "      <th>264832</th>\n",
              "      <td>2370961</td>\n",
              "      <td>2018-10-27</td>\n",
              "      <td>88</td>\n",
              "      <td>240481</td>\n",
              "      <td>65</td>\n",
              "      <td>Old El Paso Salsa   Dip Chnky Tom Ht300g</td>\n",
              "      <td>2</td>\n",
              "      <td>10.2</td>\n",
              "      <td>300</td>\n",
              "      <td>OLD</td>\n",
              "      <td>OLDER FAMILIES</td>\n",
              "      <td>Budget</td>\n",
              "    </tr>\n",
              "    <tr>\n",
              "      <th>264833</th>\n",
              "      <td>2373711</td>\n",
              "      <td>2018-12-14</td>\n",
              "      <td>88</td>\n",
              "      <td>241815</td>\n",
              "      <td>16</td>\n",
              "      <td>Smiths Crinkle Chips Salt &amp; Vinegar 330g</td>\n",
              "      <td>2</td>\n",
              "      <td>11.4</td>\n",
              "      <td>330</td>\n",
              "      <td>SMITHS</td>\n",
              "      <td>YOUNG SINGLES/COUPLES</td>\n",
              "      <td>Mainstream</td>\n",
              "    </tr>\n",
              "  </tbody>\n",
              "</table>\n",
              "<p>264834 rows × 12 columns</p>\n",
              "</div>\n",
              "      <button class=\"colab-df-convert\" onclick=\"convertToInteractive('df-1097cca7-f14c-4ce2-aad6-4abf852ff0c7')\"\n",
              "              title=\"Convert this dataframe to an interactive table.\"\n",
              "              style=\"display:none;\">\n",
              "\n",
              "  <svg xmlns=\"http://www.w3.org/2000/svg\" height=\"24px\"viewBox=\"0 0 24 24\"\n",
              "       width=\"24px\">\n",
              "    <path d=\"M0 0h24v24H0V0z\" fill=\"none\"/>\n",
              "    <path d=\"M18.56 5.44l.94 2.06.94-2.06 2.06-.94-2.06-.94-.94-2.06-.94 2.06-2.06.94zm-11 1L8.5 8.5l.94-2.06 2.06-.94-2.06-.94L8.5 2.5l-.94 2.06-2.06.94zm10 10l.94 2.06.94-2.06 2.06-.94-2.06-.94-.94-2.06-.94 2.06-2.06.94z\"/><path d=\"M17.41 7.96l-1.37-1.37c-.4-.4-.92-.59-1.43-.59-.52 0-1.04.2-1.43.59L10.3 9.45l-7.72 7.72c-.78.78-.78 2.05 0 2.83L4 21.41c.39.39.9.59 1.41.59.51 0 1.02-.2 1.41-.59l7.78-7.78 2.81-2.81c.8-.78.8-2.07 0-2.86zM5.41 20L4 18.59l7.72-7.72 1.47 1.35L5.41 20z\"/>\n",
              "  </svg>\n",
              "      </button>\n",
              "\n",
              "\n",
              "\n",
              "    <div id=\"df-bfa60bfb-e2fc-486c-ae64-45238859a743\">\n",
              "      <button class=\"colab-df-quickchart\" onclick=\"quickchart('df-bfa60bfb-e2fc-486c-ae64-45238859a743')\"\n",
              "              title=\"Suggest charts.\"\n",
              "              style=\"display:none;\">\n",
              "\n",
              "<svg xmlns=\"http://www.w3.org/2000/svg\" height=\"24px\"viewBox=\"0 0 24 24\"\n",
              "     width=\"24px\">\n",
              "    <g>\n",
              "        <path d=\"M19 3H5c-1.1 0-2 .9-2 2v14c0 1.1.9 2 2 2h14c1.1 0 2-.9 2-2V5c0-1.1-.9-2-2-2zM9 17H7v-7h2v7zm4 0h-2V7h2v10zm4 0h-2v-4h2v4z\"/>\n",
              "    </g>\n",
              "</svg>\n",
              "      </button>\n",
              "    </div>\n",
              "\n",
              "<style>\n",
              "  .colab-df-quickchart {\n",
              "    background-color: #E8F0FE;\n",
              "    border: none;\n",
              "    border-radius: 50%;\n",
              "    cursor: pointer;\n",
              "    display: none;\n",
              "    fill: #1967D2;\n",
              "    height: 32px;\n",
              "    padding: 0 0 0 0;\n",
              "    width: 32px;\n",
              "  }\n",
              "\n",
              "  .colab-df-quickchart:hover {\n",
              "    background-color: #E2EBFA;\n",
              "    box-shadow: 0px 1px 2px rgba(60, 64, 67, 0.3), 0px 1px 3px 1px rgba(60, 64, 67, 0.15);\n",
              "    fill: #174EA6;\n",
              "  }\n",
              "\n",
              "  [theme=dark] .colab-df-quickchart {\n",
              "    background-color: #3B4455;\n",
              "    fill: #D2E3FC;\n",
              "  }\n",
              "\n",
              "  [theme=dark] .colab-df-quickchart:hover {\n",
              "    background-color: #434B5C;\n",
              "    box-shadow: 0px 1px 3px 1px rgba(0, 0, 0, 0.15);\n",
              "    filter: drop-shadow(0px 1px 2px rgba(0, 0, 0, 0.3));\n",
              "    fill: #FFFFFF;\n",
              "  }\n",
              "</style>\n",
              "\n",
              "    <script>\n",
              "      async function quickchart(key) {\n",
              "        const containerElement = document.querySelector('#' + key);\n",
              "        const charts = await google.colab.kernel.invokeFunction(\n",
              "            'suggestCharts', [key], {});\n",
              "      }\n",
              "    </script>\n",
              "\n",
              "      <script>\n",
              "\n",
              "function displayQuickchartButton(domScope) {\n",
              "  let quickchartButtonEl =\n",
              "    domScope.querySelector('#df-bfa60bfb-e2fc-486c-ae64-45238859a743 button.colab-df-quickchart');\n",
              "  quickchartButtonEl.style.display =\n",
              "    google.colab.kernel.accessAllowed ? 'block' : 'none';\n",
              "}\n",
              "\n",
              "        displayQuickchartButton(document);\n",
              "      </script>\n",
              "      <style>\n",
              "    .colab-df-container {\n",
              "      display:flex;\n",
              "      flex-wrap:wrap;\n",
              "      gap: 12px;\n",
              "    }\n",
              "\n",
              "    .colab-df-convert {\n",
              "      background-color: #E8F0FE;\n",
              "      border: none;\n",
              "      border-radius: 50%;\n",
              "      cursor: pointer;\n",
              "      display: none;\n",
              "      fill: #1967D2;\n",
              "      height: 32px;\n",
              "      padding: 0 0 0 0;\n",
              "      width: 32px;\n",
              "    }\n",
              "\n",
              "    .colab-df-convert:hover {\n",
              "      background-color: #E2EBFA;\n",
              "      box-shadow: 0px 1px 2px rgba(60, 64, 67, 0.3), 0px 1px 3px 1px rgba(60, 64, 67, 0.15);\n",
              "      fill: #174EA6;\n",
              "    }\n",
              "\n",
              "    [theme=dark] .colab-df-convert {\n",
              "      background-color: #3B4455;\n",
              "      fill: #D2E3FC;\n",
              "    }\n",
              "\n",
              "    [theme=dark] .colab-df-convert:hover {\n",
              "      background-color: #434B5C;\n",
              "      box-shadow: 0px 1px 3px 1px rgba(0, 0, 0, 0.15);\n",
              "      filter: drop-shadow(0px 1px 2px rgba(0, 0, 0, 0.3));\n",
              "      fill: #FFFFFF;\n",
              "    }\n",
              "  </style>\n",
              "\n",
              "      <script>\n",
              "        const buttonEl =\n",
              "          document.querySelector('#df-1097cca7-f14c-4ce2-aad6-4abf852ff0c7 button.colab-df-convert');\n",
              "        buttonEl.style.display =\n",
              "          google.colab.kernel.accessAllowed ? 'block' : 'none';\n",
              "\n",
              "        async function convertToInteractive(key) {\n",
              "          const element = document.querySelector('#df-1097cca7-f14c-4ce2-aad6-4abf852ff0c7');\n",
              "          const dataTable =\n",
              "            await google.colab.kernel.invokeFunction('convertToInteractive',\n",
              "                                                     [key], {});\n",
              "          if (!dataTable) return;\n",
              "\n",
              "          const docLinkHtml = 'Like what you see? Visit the ' +\n",
              "            '<a target=\"_blank\" href=https://colab.research.google.com/notebooks/data_table.ipynb>data table notebook</a>'\n",
              "            + ' to learn more about interactive tables.';\n",
              "          element.innerHTML = '';\n",
              "          dataTable['output_type'] = 'display_data';\n",
              "          await google.colab.output.renderOutput(dataTable, element);\n",
              "          const docLink = document.createElement('div');\n",
              "          docLink.innerHTML = docLinkHtml;\n",
              "          element.appendChild(docLink);\n",
              "        }\n",
              "      </script>\n",
              "    </div>\n",
              "  </div>\n"
            ]
          },
          "metadata": {},
          "execution_count": 2
        }
      ]
    },
    {
      "cell_type": "markdown",
      "source": [
        "# Shop"
      ],
      "metadata": {
        "id": "ilXjEVY-E7jX"
      }
    },
    {
      "cell_type": "code",
      "source": [
        "a1df = df.loc[df['LIFESTAGE'].isin(['OLDER SINGLES/COUPLES', 'OLDER FAMILIES'])]\n",
        "\n",
        "# Select only the 'LIFESTAGE' and 'STORE_NBR' columns and create a copy\n",
        "a2df = a1df[['LIFESTAGE', 'STORE_NBR']].copy()\n",
        "\n",
        "# Print the filtered DataFrame\n",
        "print(a2df)"
      ],
      "metadata": {
        "colab": {
          "base_uri": "https://localhost:8080/"
        },
        "id": "Zx6jP3rCE_CD",
        "outputId": "266b9994-806c-4754-bec5-788922ee3720"
      },
      "execution_count": null,
      "outputs": [
        {
          "output_type": "stream",
          "name": "stdout",
          "text": [
            "                    LIFESTAGE  STORE_NBR\n",
            "4       OLDER SINGLES/COUPLES          1\n",
            "11      OLDER SINGLES/COUPLES          1\n",
            "12      OLDER SINGLES/COUPLES          1\n",
            "13      OLDER SINGLES/COUPLES          1\n",
            "14      OLDER SINGLES/COUPLES          1\n",
            "...                       ...        ...\n",
            "264825  OLDER SINGLES/COUPLES         88\n",
            "264826  OLDER SINGLES/COUPLES         88\n",
            "264827  OLDER SINGLES/COUPLES         88\n",
            "264831         OLDER FAMILIES         88\n",
            "264832         OLDER FAMILIES         88\n",
            "\n",
            "[103073 rows x 2 columns]\n"
          ]
        }
      ]
    },
    {
      "cell_type": "code",
      "source": [
        "a2df['STORE_NBR'].value_counts().head(50)"
      ],
      "metadata": {
        "colab": {
          "base_uri": "https://localhost:8080/"
        },
        "id": "gKXL_A1uGfo-",
        "outputId": "bd861b36-8a52-4ac8-a8a2-edc65c42eb89"
      },
      "execution_count": null,
      "outputs": [
        {
          "output_type": "execute_result",
          "data": {
            "text/plain": [
              "226    862\n",
              "43     853\n",
              "88     849\n",
              "93     842\n",
              "128    823\n",
              "152    821\n",
              "156    819\n",
              "100    803\n",
              "30     780\n",
              "259    775\n",
              "168    770\n",
              "179    762\n",
              "257    759\n",
              "69     755\n",
              "270    753\n",
              "63     749\n",
              "230    746\n",
              "106    739\n",
              "109    737\n",
              "237    737\n",
              "118    733\n",
              "40     730\n",
              "105    729\n",
              "71     729\n",
              "181    721\n",
              "157    721\n",
              "83     720\n",
              "137    718\n",
              "184    709\n",
              "13     708\n",
              "165    707\n",
              "62     702\n",
              "196    700\n",
              "55     698\n",
              "164    695\n",
              "147    693\n",
              "223    691\n",
              "48     691\n",
              "10     690\n",
              "114    688\n",
              "133    687\n",
              "227    687\n",
              "180    686\n",
              "101    686\n",
              "102    686\n",
              "112    683\n",
              "107    683\n",
              "39     681\n",
              "33     681\n",
              "178    681\n",
              "Name: STORE_NBR, dtype: int64"
            ]
          },
          "metadata": {},
          "execution_count": 95
        }
      ]
    },
    {
      "cell_type": "markdown",
      "source": [
        "#Total Unique Customer"
      ],
      "metadata": {
        "id": "3bfKOJULqgBf"
      }
    },
    {
      "cell_type": "code",
      "source": [
        "df['LYLTY_CARD_NBR'].nunique()"
      ],
      "metadata": {
        "colab": {
          "base_uri": "https://localhost:8080/"
        },
        "id": "O2Ou6syqQ03i",
        "outputId": "87b0f2fa-d392-4630-e90a-01b896570716"
      },
      "execution_count": null,
      "outputs": [
        {
          "output_type": "execute_result",
          "data": {
            "text/plain": [
              "72636"
            ]
          },
          "metadata": {},
          "execution_count": 3
        }
      ]
    },
    {
      "cell_type": "code",
      "source": [
        "df['STORE_NBR'].nunique()"
      ],
      "metadata": {
        "colab": {
          "base_uri": "https://localhost:8080/"
        },
        "id": "bDKAQlsebE33",
        "outputId": "422f43cd-6ae3-47bc-ee2a-eb688aeccdf8"
      },
      "execution_count": null,
      "outputs": [
        {
          "output_type": "execute_result",
          "data": {
            "text/plain": [
              "272"
            ]
          },
          "metadata": {},
          "execution_count": 4
        }
      ]
    },
    {
      "cell_type": "code",
      "source": [
        "df['BRAND'].nunique()"
      ],
      "metadata": {
        "colab": {
          "base_uri": "https://localhost:8080/"
        },
        "id": "BTI8ysvdbmSX",
        "outputId": "772e6654-d4d0-4ce8-8ac5-bc8b21e5f2bf"
      },
      "execution_count": null,
      "outputs": [
        {
          "output_type": "execute_result",
          "data": {
            "text/plain": [
              "21"
            ]
          },
          "metadata": {},
          "execution_count": 5
        }
      ]
    },
    {
      "cell_type": "code",
      "source": [
        "df['LIFESTAGE'].unique()"
      ],
      "metadata": {
        "colab": {
          "base_uri": "https://localhost:8080/"
        },
        "id": "hQrIbenYese9",
        "outputId": "6fe2fadf-f52d-4a2f-cdd3-e5215e59cf97"
      },
      "execution_count": null,
      "outputs": [
        {
          "output_type": "execute_result",
          "data": {
            "text/plain": [
              "array(['YOUNG SINGLES/COUPLES', 'YOUNG FAMILIES', 'OLDER SINGLES/COUPLES',\n",
              "       'MIDAGE SINGLES/COUPLES', 'NEW FAMILIES', 'OLDER FAMILIES',\n",
              "       'RETIREES'], dtype=object)"
            ]
          },
          "metadata": {},
          "execution_count": 6
        }
      ]
    },
    {
      "cell_type": "code",
      "source": [
        "df['DATE'].max()"
      ],
      "metadata": {
        "colab": {
          "base_uri": "https://localhost:8080/",
          "height": 36
        },
        "id": "CoTcx0n5UVh5",
        "outputId": "57366459-8eff-477b-e5cc-a9a3bb1f4640"
      },
      "execution_count": null,
      "outputs": [
        {
          "output_type": "execute_result",
          "data": {
            "text/plain": [
              "'2019-06-30'"
            ],
            "application/vnd.google.colaboratory.intrinsic+json": {
              "type": "string"
            }
          },
          "metadata": {},
          "execution_count": 7
        }
      ]
    },
    {
      "cell_type": "code",
      "source": [
        "df['DATE'].min()"
      ],
      "metadata": {
        "colab": {
          "base_uri": "https://localhost:8080/",
          "height": 36
        },
        "id": "uBL8K3AUU7oG",
        "outputId": "50dab946-904b-49c4-c64a-9a6a335c9bc1"
      },
      "execution_count": null,
      "outputs": [
        {
          "output_type": "execute_result",
          "data": {
            "text/plain": [
              "'2018-07-01'"
            ],
            "application/vnd.google.colaboratory.intrinsic+json": {
              "type": "string"
            }
          },
          "metadata": {},
          "execution_count": 8
        }
      ]
    },
    {
      "cell_type": "code",
      "source": [
        "df['PROD_QTY'].sum() / 12"
      ],
      "metadata": {
        "colab": {
          "base_uri": "https://localhost:8080/"
        },
        "id": "yXpO3jdsVDcJ",
        "outputId": "e17b5c94-8ceb-4577-aa7b-be3548c06f35"
      },
      "execution_count": null,
      "outputs": [
        {
          "output_type": "execute_result",
          "data": {
            "text/plain": [
              "42060.333333333336"
            ]
          },
          "metadata": {},
          "execution_count": 9
        }
      ]
    },
    {
      "cell_type": "markdown",
      "source": [
        "#store"
      ],
      "metadata": {
        "id": "Cbi5TMvRq6An"
      }
    },
    {
      "cell_type": "code",
      "source": [
        "store_df = df.loc[df['BRAND'] == 'KETTLE' ]\n",
        "storebrand_df = store_df[['BRAND', 'STORE_NBR']].copy()\n",
        "print(storebrand_df)"
      ],
      "metadata": {
        "colab": {
          "base_uri": "https://localhost:8080/"
        },
        "id": "yFAZAmQOq9Tm",
        "outputId": "4b19451c-471c-44f3-b3bc-538af76c65a0"
      },
      "execution_count": null,
      "outputs": [
        {
          "output_type": "stream",
          "name": "stdout",
          "text": [
            "         BRAND  STORE_NBR\n",
            "16      KETTLE          1\n",
            "20      KETTLE          1\n",
            "21      KETTLE          1\n",
            "28      KETTLE          1\n",
            "42      KETTLE          1\n",
            "...        ...        ...\n",
            "264822  KETTLE         77\n",
            "264823  KETTLE         88\n",
            "264824  KETTLE         88\n",
            "264827  KETTLE         88\n",
            "264830  KETTLE         88\n",
            "\n",
            "[41288 rows x 2 columns]\n"
          ]
        }
      ]
    },
    {
      "cell_type": "code",
      "source": [
        "storebrand_df.value_counts()"
      ],
      "metadata": {
        "colab": {
          "base_uri": "https://localhost:8080/"
        },
        "id": "Hwl7ueLXrZWe",
        "outputId": "b0fb60d5-de85-4f40-bb4e-cfcbb0a3a787"
      },
      "execution_count": null,
      "outputs": [
        {
          "output_type": "execute_result",
          "data": {
            "text/plain": [
              "BRAND   STORE_NBR\n",
              "KETTLE  226          444\n",
              "        88           429\n",
              "        165          421\n",
              "        40           406\n",
              "        58           399\n",
              "                    ... \n",
              "        244            4\n",
              "        99             3\n",
              "        224            2\n",
              "        92             1\n",
              "        206            1\n",
              "Length: 265, dtype: int64"
            ]
          },
          "metadata": {},
          "execution_count": 11
        }
      ]
    },
    {
      "cell_type": "markdown",
      "source": [
        "#a"
      ],
      "metadata": {
        "id": "ARgSqUR3qhSg"
      }
    },
    {
      "cell_type": "code",
      "source": [
        "aw = df['LIFESTAGE'].value_counts()\n",
        "aw"
      ],
      "metadata": {
        "colab": {
          "base_uri": "https://localhost:8080/"
        },
        "id": "4pKyppsmmkbd",
        "outputId": "bf3f4ac0-d3fe-4f3e-fcf0-ede3be8ac12e"
      },
      "execution_count": null,
      "outputs": [
        {
          "output_type": "execute_result",
          "data": {
            "text/plain": [
              "OLDER SINGLES/COUPLES     54479\n",
              "RETIREES                  49763\n",
              "OLDER FAMILIES            48594\n",
              "YOUNG FAMILIES            43592\n",
              "YOUNG SINGLES/COUPLES     36377\n",
              "MIDAGE SINGLES/COUPLES    25110\n",
              "NEW FAMILIES               6919\n",
              "Name: LIFESTAGE, dtype: int64"
            ]
          },
          "metadata": {},
          "execution_count": 12
        }
      ]
    },
    {
      "cell_type": "code",
      "source": [
        "df['PREMIUM_CUSTOMER'].value_counts()"
      ],
      "metadata": {
        "colab": {
          "base_uri": "https://localhost:8080/"
        },
        "id": "I1C0NgNUm8e2",
        "outputId": "dd8b666d-e1ca-42bc-c04f-df1e1bbb4ba7"
      },
      "execution_count": null,
      "outputs": [
        {
          "output_type": "execute_result",
          "data": {
            "text/plain": [
              "Mainstream    101988\n",
              "Budget         93157\n",
              "Premium        69689\n",
              "Name: PREMIUM_CUSTOMER, dtype: int64"
            ]
          },
          "metadata": {},
          "execution_count": 13
        }
      ]
    },
    {
      "cell_type": "code",
      "source": [
        "premium_brand_df = df.loc[(df['PREMIUM_CUSTOMER'] == 'Premium')]\n",
        "premium_berbrand_df = premium_brand_df[['PREMIUM_CUSTOMER', 'BRAND']].copy()\n",
        "print(premium_berbrand_df)"
      ],
      "metadata": {
        "colab": {
          "base_uri": "https://localhost:8080/"
        },
        "id": "BDA-Qj6ojx37",
        "outputId": "91945aa8-9938-4965-8a8f-a2070a49c181"
      },
      "execution_count": null,
      "outputs": [
        {
          "output_type": "stream",
          "name": "stdout",
          "text": [
            "       PREMIUM_CUSTOMER    BRAND\n",
            "0               Premium  NATURAL\n",
            "8               Premium  DORITOS\n",
            "24              Premium  GRNWVES\n",
            "29              Premium      RRD\n",
            "30              Premium  NATURAL\n",
            "...                 ...      ...\n",
            "264803          Premium   SMITHS\n",
            "264804          Premium   KETTLE\n",
            "264806          Premium    THINS\n",
            "264823          Premium   KETTLE\n",
            "264830          Premium   KETTLE\n",
            "\n",
            "[69689 rows x 2 columns]\n"
          ]
        }
      ]
    },
    {
      "cell_type": "code",
      "source": [
        "premium_berbrand_df.value_counts()"
      ],
      "metadata": {
        "colab": {
          "base_uri": "https://localhost:8080/"
        },
        "id": "O2zye8r9kQ_V",
        "outputId": "769b0cc0-aeb4-4f1a-c73b-e2972cf38a10"
      },
      "execution_count": null,
      "outputs": [
        {
          "output_type": "execute_result",
          "data": {
            "text/plain": [
              "PREMIUM_CUSTOMER  BRAND     \n",
              "Premium           KETTLE        10711\n",
              "                  SMITHS         8433\n",
              "                  DORITOS        7135\n",
              "                  PRINGLES       6579\n",
              "                  RRD            4837\n",
              "                  WOOLWORTHS     4078\n",
              "                  INFUZIONS      3729\n",
              "                  THINS          3708\n",
              "                  COBS           2530\n",
              "                  TOSTITOS       2498\n",
              "                  TWISTIES       2440\n",
              "                  OLD            2396\n",
              "                  GRNWVES        2047\n",
              "                  NATURAL        2027\n",
              "                  TYRRELLS       1664\n",
              "                  CHEEZELS       1242\n",
              "                  CCS            1241\n",
              "                  SUNBITES        820\n",
              "                  CHEETOS         765\n",
              "                  BURGER          437\n",
              "                  FRENCH          372\n",
              "dtype: int64"
            ]
          },
          "metadata": {},
          "execution_count": 36
        }
      ]
    },
    {
      "cell_type": "code",
      "source": [
        "budget_brand_df = df.loc[(df['PREMIUM_CUSTOMER'] == 'Budget')]\n",
        "budget_budbrand_df = budget_brand_df[['PREMIUM_CUSTOMER', 'BRAND']].copy()\n",
        "print(budget_budbrand_df)"
      ],
      "metadata": {
        "colab": {
          "base_uri": "https://localhost:8080/"
        },
        "id": "Xq6y5sQAkfy7",
        "outputId": "cb0a4276-82b6-44c7-c554-f4670029e76f"
      },
      "execution_count": null,
      "outputs": [
        {
          "output_type": "stream",
          "name": "stdout",
          "text": [
            "       PREMIUM_CUSTOMER      BRAND\n",
            "2                Budget    GRNWVES\n",
            "3                Budget    NATURAL\n",
            "6                Budget  INFUZIONS\n",
            "7                Budget        RRD\n",
            "17               Budget    DORITOS\n",
            "...                 ...        ...\n",
            "264825           Budget   PRINGLES\n",
            "264826           Budget    DORITOS\n",
            "264827           Budget     KETTLE\n",
            "264831           Budget   TYRRELLS\n",
            "264832           Budget        OLD\n",
            "\n",
            "[93157 rows x 2 columns]\n"
          ]
        }
      ]
    },
    {
      "cell_type": "code",
      "source": [
        "budget_budbrand_df.value_counts()"
      ],
      "metadata": {
        "colab": {
          "base_uri": "https://localhost:8080/"
        },
        "id": "RNSOlMihkhZu",
        "outputId": "759698ac-1143-41fd-f55b-707329e5723e"
      },
      "execution_count": null,
      "outputs": [
        {
          "output_type": "execute_result",
          "data": {
            "text/plain": [
              "PREMIUM_CUSTOMER  BRAND     \n",
              "Budget            KETTLE        14154\n",
              "                  SMITHS        11548\n",
              "                  DORITOS        9818\n",
              "                  PRINGLES       8620\n",
              "                  RRD            6480\n",
              "                  WOOLWORTHS     5486\n",
              "                  THINS          4931\n",
              "                  INFUZIONS      4922\n",
              "                  COBS           3274\n",
              "                  TOSTITOS       3236\n",
              "                  TWISTIES       3229\n",
              "                  OLD            3203\n",
              "                  NATURAL        2785\n",
              "                  GRNWVES        2656\n",
              "                  TYRRELLS       2195\n",
              "                  CCS            1679\n",
              "                  CHEEZELS       1626\n",
              "                  SUNBITES       1146\n",
              "                  CHEETOS        1051\n",
              "                  BURGER          579\n",
              "                  FRENCH          539\n",
              "dtype: int64"
            ]
          },
          "metadata": {},
          "execution_count": 39
        }
      ]
    },
    {
      "cell_type": "code",
      "source": [
        "main_brand_df = df.loc[(df['PREMIUM_CUSTOMER'] == 'Mainstream')]\n",
        "main_mainbrand_df = main_brand_df[['PREMIUM_CUSTOMER', 'BRAND']].copy()\n",
        "print(main_mainbrand_df)"
      ],
      "metadata": {
        "colab": {
          "base_uri": "https://localhost:8080/"
        },
        "id": "XaiPdsG3k2e7",
        "outputId": "8f1f2d25-242b-4b55-adce-ae58ad63c83c"
      },
      "execution_count": null,
      "outputs": [
        {
          "output_type": "stream",
          "name": "stdout",
          "text": [
            "       PREMIUM_CUSTOMER       BRAND\n",
            "1            Mainstream         RRD\n",
            "4            Mainstream  WOOLWORTHS\n",
            "5            Mainstream     CHEETOS\n",
            "9            Mainstream     DORITOS\n",
            "10           Mainstream         OLD\n",
            "...                 ...         ...\n",
            "264820       Mainstream    TOSTITOS\n",
            "264824       Mainstream      KETTLE\n",
            "264828       Mainstream     DORITOS\n",
            "264829       Mainstream     GRNWVES\n",
            "264833       Mainstream      SMITHS\n",
            "\n",
            "[101988 rows x 2 columns]\n"
          ]
        }
      ]
    },
    {
      "cell_type": "code",
      "source": [
        "main_mainbrand_df.value_counts()"
      ],
      "metadata": {
        "colab": {
          "base_uri": "https://localhost:8080/"
        },
        "id": "szLvBfC3k7DI",
        "outputId": "c097e469-fe32-484b-e6cb-7387e36c11fe"
      },
      "execution_count": null,
      "outputs": [
        {
          "output_type": "execute_result",
          "data": {
            "text/plain": [
              "PREMIUM_CUSTOMER  BRAND     \n",
              "Mainstream        KETTLE        16423\n",
              "                  SMITHS        11842\n",
              "                  DORITOS       11192\n",
              "                  PRINGLES       9903\n",
              "                  RRD            6462\n",
              "                  INFUZIONS      5550\n",
              "                  THINS          5436\n",
              "                  WOOLWORTHS     5193\n",
              "                  COBS           3889\n",
              "                  TWISTIES       3785\n",
              "                  TOSTITOS       3737\n",
              "                  OLD            3725\n",
              "                  GRNWVES        3037\n",
              "                  NATURAL        2657\n",
              "                  TYRRELLS       2583\n",
              "                  CHEEZELS       1735\n",
              "                  CCS            1631\n",
              "                  CHEETOS        1111\n",
              "                  SUNBITES       1042\n",
              "                  BURGER          548\n",
              "                  FRENCH          507\n",
              "dtype: int64"
            ]
          },
          "metadata": {},
          "execution_count": 41
        }
      ]
    },
    {
      "cell_type": "markdown",
      "source": [
        "#Premium"
      ],
      "metadata": {
        "id": "X5wpxUzejVoN"
      }
    },
    {
      "cell_type": "code",
      "source": [
        "premium_df = df.loc[df['PREMIUM_CUSTOMER'] == 'Premium' ]\n",
        "premium_lifestage_df = premium_df[['PREMIUM_CUSTOMER', 'LIFESTAGE']].copy()\n",
        "print(premium_lifestage_df)"
      ],
      "metadata": {
        "colab": {
          "base_uri": "https://localhost:8080/"
        },
        "id": "muWlFfNgnGSB",
        "outputId": "6b2795ec-b8bb-4a34-b6ec-e0208c3d1728"
      },
      "execution_count": null,
      "outputs": [
        {
          "output_type": "stream",
          "name": "stdout",
          "text": [
            "       PREMIUM_CUSTOMER               LIFESTAGE\n",
            "0               Premium   YOUNG SINGLES/COUPLES\n",
            "8               Premium            NEW FAMILIES\n",
            "24              Premium   OLDER SINGLES/COUPLES\n",
            "29              Premium  MIDAGE SINGLES/COUPLES\n",
            "30              Premium   YOUNG SINGLES/COUPLES\n",
            "...                 ...                     ...\n",
            "264803          Premium  MIDAGE SINGLES/COUPLES\n",
            "264804          Premium  MIDAGE SINGLES/COUPLES\n",
            "264806          Premium                RETIREES\n",
            "264823          Premium   OLDER SINGLES/COUPLES\n",
            "264830          Premium          YOUNG FAMILIES\n",
            "\n",
            "[69689 rows x 2 columns]\n"
          ]
        }
      ]
    },
    {
      "cell_type": "code",
      "source": [
        "premium_lifestage_df.value_counts()"
      ],
      "metadata": {
        "colab": {
          "base_uri": "https://localhost:8080/"
        },
        "id": "Wb1KcnDZnwZj",
        "outputId": "46b441f2-cd3a-45a3-f6fa-43068ba3b8b8"
      },
      "execution_count": null,
      "outputs": [
        {
          "output_type": "execute_result",
          "data": {
            "text/plain": [
              "PREMIUM_CUSTOMER  LIFESTAGE             \n",
              "Premium           OLDER SINGLES/COUPLES     17754\n",
              "                  RETIREES                  13096\n",
              "                  YOUNG FAMILIES            11563\n",
              "                  OLDER FAMILIES            11190\n",
              "                  MIDAGE SINGLES/COUPLES     8216\n",
              "                  YOUNG SINGLES/COUPLES      6281\n",
              "                  NEW FAMILIES               1589\n",
              "dtype: int64"
            ]
          },
          "metadata": {},
          "execution_count": 16
        }
      ]
    },
    {
      "cell_type": "code",
      "source": [
        "lifestage_counts = premium_lifestage_df['LIFESTAGE'].value_counts()"
      ],
      "metadata": {
        "id": "DDeWDB6_ts8r"
      },
      "execution_count": null,
      "outputs": []
    },
    {
      "cell_type": "code",
      "source": [
        "lifestage_counts = premium_lifestage_df['LIFESTAGE'].value_counts()\n",
        "plt.barh(lifestage_counts.index, lifestage_counts.values)\n",
        "\n",
        "\n",
        "plt.xlabel('Values')\n",
        "plt.ylabel('Categories')\n",
        "plt.title('Premium Lifestage')\n",
        "\n",
        "plt.xticks(rotation=45)\n",
        "\n",
        "\n",
        "plt.tight_layout()\n",
        "plt.show()\n"
      ],
      "metadata": {
        "colab": {
          "base_uri": "https://localhost:8080/",
          "height": 487
        },
        "id": "ny_sHqwLr1YX",
        "outputId": "59d7ba21-28e0-48ec-c74e-79e2823e0ecd"
      },
      "execution_count": null,
      "outputs": [
        {
          "output_type": "display_data",
          "data": {
            "text/plain": [
              "<Figure size 640x480 with 1 Axes>"
            ],
            "image/png": "[encoded data removed]"
          },
          "metadata": {}
        }
      ]
    },
    {
      "cell_type": "code",
      "source": [
        "premium_food_df = df.loc[(df['LIFESTAGE'] == 'OLDER SINGLES/COUPLES') & (df['PREMIUM_CUSTOMER'] == 'Premium')]\n",
        "premium_foodfood_df = premium_food_df[['LIFESTAGE', 'BRAND']].copy()\n",
        "print(premium_foodfood_df)"
      ],
      "metadata": {
        "colab": {
          "base_uri": "https://localhost:8080/"
        },
        "id": "YhVvvTybn8hW",
        "outputId": "b0bfb8e4-931e-4c48-9bce-6bcb70152832"
      },
      "execution_count": null,
      "outputs": [
        {
          "output_type": "stream",
          "name": "stdout",
          "text": [
            "                    LIFESTAGE       BRAND\n",
            "24      OLDER SINGLES/COUPLES     GRNWVES\n",
            "83      OLDER SINGLES/COUPLES      KETTLE\n",
            "104     OLDER SINGLES/COUPLES    PRINGLES\n",
            "108     OLDER SINGLES/COUPLES     DORITOS\n",
            "109     OLDER SINGLES/COUPLES  WOOLWORTHS\n",
            "...                       ...         ...\n",
            "264779  OLDER SINGLES/COUPLES    CHEEZELS\n",
            "264780  OLDER SINGLES/COUPLES      SMITHS\n",
            "264790  OLDER SINGLES/COUPLES     DORITOS\n",
            "264797  OLDER SINGLES/COUPLES         OLD\n",
            "264823  OLDER SINGLES/COUPLES      KETTLE\n",
            "\n",
            "[17754 rows x 2 columns]\n"
          ]
        }
      ]
    },
    {
      "cell_type": "code",
      "source": [
        "premium_foodfood_df.value_counts()"
      ],
      "metadata": {
        "colab": {
          "base_uri": "https://localhost:8080/"
        },
        "id": "KBGnzQohpivp",
        "outputId": "d5c4ea77-c86c-4b2e-d144-614782beeda8"
      },
      "execution_count": null,
      "outputs": [
        {
          "output_type": "execute_result",
          "data": {
            "text/plain": [
              "LIFESTAGE              BRAND     \n",
              "OLDER SINGLES/COUPLES  KETTLE        2947\n",
              "                       SMITHS        2042\n",
              "                       DORITOS       1958\n",
              "                       PRINGLES      1744\n",
              "                       RRD           1071\n",
              "                       THINS          997\n",
              "                       INFUZIONS      960\n",
              "                       WOOLWORTHS     886\n",
              "                       TOSTITOS       660\n",
              "                       TWISTIES       657\n",
              "                       OLD            653\n",
              "                       COBS           631\n",
              "                       GRNWVES        537\n",
              "                       NATURAL        451\n",
              "                       TYRRELLS       413\n",
              "                       CHEEZELS       342\n",
              "                       CCS            259\n",
              "                       CHEETOS        191\n",
              "                       SUNBITES       171\n",
              "                       FRENCH          95\n",
              "                       BURGER          89\n",
              "dtype: int64"
            ]
          },
          "metadata": {},
          "execution_count": 18
        }
      ]
    },
    {
      "cell_type": "markdown",
      "source": [
        "#Budget"
      ],
      "metadata": {
        "id": "kLbbYXs3jhtv"
      }
    },
    {
      "cell_type": "code",
      "source": [
        "premium_food_df = df.loc[(df['LIFESTAGE'] == 'OLDER SINGLES/COUPLES') & (df['PREMIUM_CUSTOMER'] == 'Premium')]\n",
        "premium_foodfood_df = premium_food_df[['LIFESTAGE', 'BRAND']].copy()\n",
        "print(premium_foodfood_df)"
      ],
      "metadata": {
        "colab": {
          "base_uri": "https://localhost:8080/"
        },
        "id": "bkmfCeFsjmSj",
        "outputId": "1f268cff-1c96-4690-95d3-6e6f5203573b"
      },
      "execution_count": null,
      "outputs": [
        {
          "output_type": "stream",
          "name": "stdout",
          "text": [
            "                    LIFESTAGE       BRAND\n",
            "24      OLDER SINGLES/COUPLES     GRNWVES\n",
            "83      OLDER SINGLES/COUPLES      KETTLE\n",
            "104     OLDER SINGLES/COUPLES    PRINGLES\n",
            "108     OLDER SINGLES/COUPLES     DORITOS\n",
            "109     OLDER SINGLES/COUPLES  WOOLWORTHS\n",
            "...                       ...         ...\n",
            "264779  OLDER SINGLES/COUPLES    CHEEZELS\n",
            "264780  OLDER SINGLES/COUPLES      SMITHS\n",
            "264790  OLDER SINGLES/COUPLES     DORITOS\n",
            "264797  OLDER SINGLES/COUPLES         OLD\n",
            "264823  OLDER SINGLES/COUPLES      KETTLE\n",
            "\n",
            "[17754 rows x 2 columns]\n"
          ]
        }
      ]
    },
    {
      "cell_type": "code",
      "source": [
        "premium_df = df.loc[df['PREMIUM_CUSTOMER'] == 'Premium' ]\n",
        "premium_lifestage_df = premium_df[['PREMIUM_CUSTOMER', 'LIFESTAGE']].copy()\n",
        "print(premium_lifestage_df)"
      ],
      "metadata": {
        "id": "mVSv4RzIra0K"
      },
      "execution_count": null,
      "outputs": []
    },
    {
      "cell_type": "markdown",
      "source": [
        "# Kettle is the most brand buyed"
      ],
      "metadata": {
        "id": "QOETjn36mlsT"
      }
    },
    {
      "cell_type": "code",
      "source": [
        "df['BRAND'].value_counts()"
      ],
      "metadata": {
        "colab": {
          "base_uri": "https://localhost:8080/"
        },
        "id": "7VFin-FDPqad",
        "outputId": "c47af74b-4bed-4b34-9d58-db8eaa2b6a39"
      },
      "execution_count": null,
      "outputs": [
        {
          "output_type": "execute_result",
          "data": {
            "text/plain": [
              "KETTLE        41288\n",
              "SMITHS        31823\n",
              "DORITOS       28145\n",
              "PRINGLES      25102\n",
              "RRD           17779\n",
              "WOOLWORTHS    14757\n",
              "INFUZIONS     14201\n",
              "THINS         14075\n",
              "COBS           9693\n",
              "TOSTITOS       9471\n",
              "TWISTIES       9454\n",
              "OLD            9324\n",
              "GRNWVES        7740\n",
              "NATURAL        7469\n",
              "TYRRELLS       6442\n",
              "CHEEZELS       4603\n",
              "CCS            4551\n",
              "SUNBITES       3008\n",
              "CHEETOS        2927\n",
              "BURGER         1564\n",
              "FRENCH         1418\n",
              "Name: BRAND, dtype: int64"
            ]
          },
          "metadata": {},
          "execution_count": 20
        }
      ]
    },
    {
      "cell_type": "code",
      "source": [
        "kettle_df = df.loc[df['BRAND'] == 'KETTLE' ]\n",
        "premium_kettle_df = kettle_df[['BRAND', 'PREMIUM_CUSTOMER']].copy()\n",
        "print(premium_kettle_df)"
      ],
      "metadata": {
        "colab": {
          "base_uri": "https://localhost:8080/"
        },
        "id": "sqt1BrZCQFcq",
        "outputId": "362e8703-4849-47fd-c0b5-013b553f735d"
      },
      "execution_count": null,
      "outputs": [
        {
          "output_type": "stream",
          "name": "stdout",
          "text": [
            "         BRAND PREMIUM_CUSTOMER\n",
            "16      KETTLE       Mainstream\n",
            "20      KETTLE       Mainstream\n",
            "21      KETTLE       Mainstream\n",
            "28      KETTLE           Budget\n",
            "42      KETTLE          Premium\n",
            "...        ...              ...\n",
            "264822  KETTLE           Budget\n",
            "264823  KETTLE          Premium\n",
            "264824  KETTLE       Mainstream\n",
            "264827  KETTLE           Budget\n",
            "264830  KETTLE          Premium\n",
            "\n",
            "[41288 rows x 2 columns]\n"
          ]
        }
      ]
    },
    {
      "cell_type": "code",
      "source": [
        "premium_kettle_df['PREMIUM_CUSTOMER'].value_counts()"
      ],
      "metadata": {
        "colab": {
          "base_uri": "https://localhost:8080/"
        },
        "id": "SIEoLKfnQgyS",
        "outputId": "66bf8117-7ad9-433f-e2fa-f969f3f9b81f"
      },
      "execution_count": null,
      "outputs": [
        {
          "output_type": "execute_result",
          "data": {
            "text/plain": [
              "Mainstream    16423\n",
              "Budget        14154\n",
              "Premium       10711\n",
              "Name: PREMIUM_CUSTOMER, dtype: int64"
            ]
          },
          "metadata": {},
          "execution_count": 22
        }
      ]
    },
    {
      "cell_type": "code",
      "source": [
        "ab = premium_kettle_df['PREMIUM_CUSTOMER'].value_counts()"
      ],
      "metadata": {
        "id": "htupB0tmjMzE"
      },
      "execution_count": null,
      "outputs": []
    },
    {
      "cell_type": "code",
      "source": [
        "plt.barh(ab.index, ab.values)\n",
        "\n",
        "plt.xlabel('Total')\n",
        "plt.ylabel('Customer')\n",
        "plt.title('Kettle Customer Based of Customer Segmentation')\n",
        "\n",
        "\n",
        "plt.show()"
      ],
      "metadata": {
        "colab": {
          "base_uri": "https://localhost:8080/",
          "height": 472
        },
        "id": "1ualXiMQjLyv",
        "outputId": "729531cf-9fa6-48d4-edda-88c011e76086"
      },
      "execution_count": null,
      "outputs": [
        {
          "output_type": "display_data",
          "data": {
            "text/plain": [
              "<Figure size 640x480 with 1 Axes>"
            ],
            "image/png": "[encoded data removed]"
          },
          "metadata": {}
        }
      ]
    },
    {
      "cell_type": "code",
      "source": [
        "lifestage_kettle_df = kettle_df.loc[kettle_df['PREMIUM_CUSTOMER'] == 'Mainstream' ]\n",
        "premium_kettle_df = lifestage_kettle_df[['PREMIUM_CUSTOMER', 'LIFESTAGE']].copy()\n",
        "print(premium_kettle_df)"
      ],
      "metadata": {
        "colab": {
          "base_uri": "https://localhost:8080/"
        },
        "id": "GIiFaPzmQ6dg",
        "outputId": "5f8354c7-394a-4d1c-f8ba-0d4a00965674"
      },
      "execution_count": null,
      "outputs": [
        {
          "output_type": "stream",
          "name": "stdout",
          "text": [
            "       PREMIUM_CUSTOMER               LIFESTAGE\n",
            "16           Mainstream          OLDER FAMILIES\n",
            "20           Mainstream          OLDER FAMILIES\n",
            "21           Mainstream   YOUNG SINGLES/COUPLES\n",
            "55           Mainstream  MIDAGE SINGLES/COUPLES\n",
            "56           Mainstream            NEW FAMILIES\n",
            "...                 ...                     ...\n",
            "264785       Mainstream   YOUNG SINGLES/COUPLES\n",
            "264813       Mainstream          YOUNG FAMILIES\n",
            "264814       Mainstream   OLDER SINGLES/COUPLES\n",
            "264815       Mainstream   OLDER SINGLES/COUPLES\n",
            "264824       Mainstream   YOUNG SINGLES/COUPLES\n",
            "\n",
            "[16423 rows x 2 columns]\n"
          ]
        }
      ]
    },
    {
      "cell_type": "code",
      "source": [
        "premium_kettle_df.value_counts()"
      ],
      "metadata": {
        "colab": {
          "base_uri": "https://localhost:8080/"
        },
        "id": "MNX3ln2QRf-u",
        "outputId": "e46b74e0-9f03-4cd9-bf42-c238457ee237"
      },
      "execution_count": null,
      "outputs": [
        {
          "output_type": "execute_result",
          "data": {
            "text/plain": [
              "PREMIUM_CUSTOMER  LIFESTAGE             \n",
              "Mainstream        YOUNG SINGLES/COUPLES     3844\n",
              "                  RETIREES                  3386\n",
              "                  OLDER SINGLES/COUPLES     2835\n",
              "                  MIDAGE SINGLES/COUPLES    2136\n",
              "                  OLDER FAMILIES            2019\n",
              "                  YOUNG FAMILIES            1789\n",
              "                  NEW FAMILIES               414\n",
              "dtype: int64"
            ]
          },
          "metadata": {},
          "execution_count": 26
        }
      ]
    },
    {
      "cell_type": "code",
      "source": [],
      "metadata": {
        "id": "03kQUPhEvxo-"
      },
      "execution_count": null,
      "outputs": []
    },
    {
      "cell_type": "markdown",
      "source": [
        "Kettle adalah brand paling banyak dibeli oleh customer mainstream, dan customer mainstream itu adalah young singles/couples"
      ],
      "metadata": {
        "id": "Tp_UCMWTR9Au"
      }
    },
    {
      "cell_type": "code",
      "source": [
        "prem_df = df.loc[df['PREMIUM_CUSTOMER'] == 'Premium' ]\n",
        "premium_prem_df = prem_df[['PREMIUM_CUSTOMER', 'LIFESTAGE']].copy()\n",
        "print(premium_prem_df)"
      ],
      "metadata": {
        "id": "gUPMOa1HSNrS",
        "colab": {
          "base_uri": "https://localhost:8080/"
        },
        "outputId": "17263188-09f6-4e4c-8304-eaff20817059"
      },
      "execution_count": null,
      "outputs": [
        {
          "output_type": "stream",
          "name": "stdout",
          "text": [
            "       PREMIUM_CUSTOMER               LIFESTAGE\n",
            "0               Premium   YOUNG SINGLES/COUPLES\n",
            "8               Premium            NEW FAMILIES\n",
            "24              Premium   OLDER SINGLES/COUPLES\n",
            "29              Premium  MIDAGE SINGLES/COUPLES\n",
            "30              Premium   YOUNG SINGLES/COUPLES\n",
            "...                 ...                     ...\n",
            "264803          Premium  MIDAGE SINGLES/COUPLES\n",
            "264804          Premium  MIDAGE SINGLES/COUPLES\n",
            "264806          Premium                RETIREES\n",
            "264823          Premium   OLDER SINGLES/COUPLES\n",
            "264830          Premium          YOUNG FAMILIES\n",
            "\n",
            "[69689 rows x 2 columns]\n"
          ]
        }
      ]
    },
    {
      "cell_type": "code",
      "source": [
        "premium_prem_df.value_counts()"
      ],
      "metadata": {
        "colab": {
          "base_uri": "https://localhost:8080/"
        },
        "id": "66vi5eNhtB1p",
        "outputId": "95517556-3269-44ed-f6c6-6a2713f44deb"
      },
      "execution_count": null,
      "outputs": [
        {
          "output_type": "execute_result",
          "data": {
            "text/plain": [
              "PREMIUM_CUSTOMER  LIFESTAGE             \n",
              "Premium           OLDER SINGLES/COUPLES     17754\n",
              "                  RETIREES                  13096\n",
              "                  YOUNG FAMILIES            11563\n",
              "                  OLDER FAMILIES            11190\n",
              "                  MIDAGE SINGLES/COUPLES     8216\n",
              "                  YOUNG SINGLES/COUPLES      6281\n",
              "                  NEW FAMILIES               1589\n",
              "dtype: int64"
            ]
          },
          "metadata": {},
          "execution_count": 28
        }
      ]
    },
    {
      "cell_type": "code",
      "source": [
        "bud_df = df.loc[df['PREMIUM_CUSTOMER'] == 'Budget' ]\n",
        "budget_bud_df = bud_df[['PREMIUM_CUSTOMER', 'LIFESTAGE']].copy()\n",
        "print(budget_bud_df)"
      ],
      "metadata": {
        "colab": {
          "base_uri": "https://localhost:8080/"
        },
        "id": "lP5hASoatF3v",
        "outputId": "c75d4d23-bc2d-486e-ab99-8b155d0b39a4"
      },
      "execution_count": null,
      "outputs": [
        {
          "output_type": "stream",
          "name": "stdout",
          "text": [
            "       PREMIUM_CUSTOMER              LIFESTAGE\n",
            "2                Budget         YOUNG FAMILIES\n",
            "3                Budget         YOUNG FAMILIES\n",
            "6                Budget  YOUNG SINGLES/COUPLES\n",
            "7                Budget  YOUNG SINGLES/COUPLES\n",
            "17               Budget               RETIREES\n",
            "...                 ...                    ...\n",
            "264825           Budget  OLDER SINGLES/COUPLES\n",
            "264826           Budget  OLDER SINGLES/COUPLES\n",
            "264827           Budget  OLDER SINGLES/COUPLES\n",
            "264831           Budget         OLDER FAMILIES\n",
            "264832           Budget         OLDER FAMILIES\n",
            "\n",
            "[93157 rows x 2 columns]\n"
          ]
        }
      ]
    },
    {
      "cell_type": "code",
      "source": [
        "budget_bud_df.value_counts()"
      ],
      "metadata": {
        "colab": {
          "base_uri": "https://localhost:8080/"
        },
        "id": "i8pQ-_o_tIAV",
        "outputId": "ffb89ea1-9e5a-4589-fd00-5978cfece2e6"
      },
      "execution_count": null,
      "outputs": [
        {
          "output_type": "execute_result",
          "data": {
            "text/plain": [
              "PREMIUM_CUSTOMER  LIFESTAGE             \n",
              "Budget            OLDER FAMILIES            23160\n",
              "                  YOUNG FAMILIES            19122\n",
              "                  OLDER SINGLES/COUPLES     18407\n",
              "                  RETIREES                  15201\n",
              "                  YOUNG SINGLES/COUPLES      9242\n",
              "                  MIDAGE SINGLES/COUPLES     5020\n",
              "                  NEW FAMILIES               3005\n",
              "dtype: int64"
            ]
          },
          "metadata": {},
          "execution_count": 30
        }
      ]
    },
    {
      "cell_type": "code",
      "source": [
        "lifestage_counts = budget_bud_df['LIFESTAGE'].value_counts()\n",
        "plt.barh(lifestage_counts.index, lifestage_counts.values)\n",
        "\n",
        "\n",
        "plt.xlabel('Values')\n",
        "plt.ylabel('Categories')\n",
        "plt.title('Budget Lifestage')\n",
        "\n",
        "plt.xticks(rotation=45)\n",
        "\n",
        "\n",
        "plt.tight_layout()\n",
        "plt.show()"
      ],
      "metadata": {
        "colab": {
          "base_uri": "https://localhost:8080/",
          "height": 487
        },
        "id": "y2u5uBCGwNcg",
        "outputId": "5db14cc7-560d-4c83-c67a-38f5056fd5a6"
      },
      "execution_count": null,
      "outputs": [
        {
          "output_type": "display_data",
          "data": {
            "text/plain": [
              "<Figure size 640x480 with 1 Axes>"
            ],
            "image/png": "[encoded data removed]"
          },
          "metadata": {}
        }
      ]
    },
    {
      "cell_type": "code",
      "source": [
        "abc = df[['PREMIUM_CUSTOMER', 'LIFESTAGE']].copy()\n",
        "print(abc)"
      ],
      "metadata": {
        "colab": {
          "base_uri": "https://localhost:8080/"
        },
        "id": "d7vrqCu73M8p",
        "outputId": "e0656350-f658-4f1e-8cf7-0f48e397e3df"
      },
      "execution_count": null,
      "outputs": [
        {
          "output_type": "stream",
          "name": "stdout",
          "text": [
            "       PREMIUM_CUSTOMER              LIFESTAGE\n",
            "0               Premium  YOUNG SINGLES/COUPLES\n",
            "1            Mainstream  YOUNG SINGLES/COUPLES\n",
            "2                Budget         YOUNG FAMILIES\n",
            "3                Budget         YOUNG FAMILIES\n",
            "4            Mainstream  OLDER SINGLES/COUPLES\n",
            "...                 ...                    ...\n",
            "264829       Mainstream         YOUNG FAMILIES\n",
            "264830          Premium         YOUNG FAMILIES\n",
            "264831           Budget         OLDER FAMILIES\n",
            "264832           Budget         OLDER FAMILIES\n",
            "264833       Mainstream  YOUNG SINGLES/COUPLES\n",
            "\n",
            "[264834 rows x 2 columns]\n"
          ]
        }
      ]
    },
    {
      "cell_type": "code",
      "source": [
        "wow = abc.value_counts()\n",
        "wow"
      ],
      "metadata": {
        "colab": {
          "base_uri": "https://localhost:8080/"
        },
        "id": "6V3q1fDG3Tg7",
        "outputId": "893faa3e-a266-454a-b53d-4e56929ddb63"
      },
      "execution_count": null,
      "outputs": [
        {
          "output_type": "execute_result",
          "data": {
            "text/plain": [
              "PREMIUM_CUSTOMER  LIFESTAGE             \n",
              "Budget            OLDER FAMILIES            23160\n",
              "Mainstream        RETIREES                  21466\n",
              "                  YOUNG SINGLES/COUPLES     20854\n",
              "Budget            YOUNG FAMILIES            19122\n",
              "                  OLDER SINGLES/COUPLES     18407\n",
              "Mainstream        OLDER SINGLES/COUPLES     18318\n",
              "Premium           OLDER SINGLES/COUPLES     17754\n",
              "Budget            RETIREES                  15201\n",
              "Mainstream        OLDER FAMILIES            14244\n",
              "Premium           RETIREES                  13096\n",
              "Mainstream        YOUNG FAMILIES            12907\n",
              "                  MIDAGE SINGLES/COUPLES    11874\n",
              "Premium           YOUNG FAMILIES            11563\n",
              "                  OLDER FAMILIES            11190\n",
              "Budget            YOUNG SINGLES/COUPLES      9242\n",
              "Premium           MIDAGE SINGLES/COUPLES     8216\n",
              "                  YOUNG SINGLES/COUPLES      6281\n",
              "Budget            MIDAGE SINGLES/COUPLES     5020\n",
              "                  NEW FAMILIES               3005\n",
              "Mainstream        NEW FAMILIES               2325\n",
              "Premium           NEW FAMILIES               1589\n",
              "dtype: int64"
            ]
          },
          "metadata": {},
          "execution_count": 75
        }
      ]
    },
    {
      "cell_type": "code",
      "source": [
        "wow_df = wow.to_frame(name='Values')\n",
        "\n",
        "\n",
        "pivot_df = wow_df.pivot_table(index='LIFESTAGE', columns='PREMIUM_CUSTOMER', values='Values')\n",
        "\n",
        "\n",
        "pivot_df.plot(kind='barh', figsize=(10, 6))\n",
        "\n",
        "\n",
        "plt.xlabel('Values')\n",
        "plt.ylabel('LIFESTAGE')\n",
        "plt.title('Lifetage Customer Distribution')\n",
        "\n",
        "\n",
        "plt.legend(title='PREMIUM_CUSTOMER')\n",
        "plt.tight_layout()\n",
        "plt.show()\n",
        "\n",
        "\n",
        "\n",
        "\n",
        "\n"
      ],
      "metadata": {
        "colab": {
          "base_uri": "https://localhost:8080/",
          "height": 607
        },
        "id": "YA1ughz62icO",
        "outputId": "be0adb72-cde4-4190-fbcd-437c9c5eaa6d"
      },
      "execution_count": null,
      "outputs": [
        {
          "output_type": "display_data",
          "data": {
            "text/plain": [
              "<Figure size 1000x600 with 1 Axes>"
            ],
            "image/png": "[encoded data removed]"
          },
          "metadata": {}
        }
      ]
    },
    {
      "cell_type": "code",
      "source": [
        "main_df = df.loc[df['PREMIUM_CUSTOMER'] == 'Mainstream' ]\n",
        "mainstream_main_df = main_df[['PREMIUM_CUSTOMER', 'LIFESTAGE']].copy()\n",
        "print(mainstream_main_df)"
      ],
      "metadata": {
        "colab": {
          "base_uri": "https://localhost:8080/"
        },
        "id": "FgVpc1YhtHil",
        "outputId": "70e6bf74-8428-4d5d-f758-d9ad3f2a467c"
      },
      "execution_count": null,
      "outputs": [
        {
          "output_type": "stream",
          "name": "stdout",
          "text": [
            "       PREMIUM_CUSTOMER               LIFESTAGE\n",
            "1            Mainstream   YOUNG SINGLES/COUPLES\n",
            "4            Mainstream   OLDER SINGLES/COUPLES\n",
            "5            Mainstream  MIDAGE SINGLES/COUPLES\n",
            "9            Mainstream   YOUNG SINGLES/COUPLES\n",
            "10           Mainstream   YOUNG SINGLES/COUPLES\n",
            "...                 ...                     ...\n",
            "264820       Mainstream   OLDER SINGLES/COUPLES\n",
            "264824       Mainstream   YOUNG SINGLES/COUPLES\n",
            "264828       Mainstream  MIDAGE SINGLES/COUPLES\n",
            "264829       Mainstream          YOUNG FAMILIES\n",
            "264833       Mainstream   YOUNG SINGLES/COUPLES\n",
            "\n",
            "[101988 rows x 2 columns]\n"
          ]
        }
      ]
    },
    {
      "cell_type": "code",
      "source": [
        "mainstream_main_df.value_counts()"
      ],
      "metadata": {
        "colab": {
          "base_uri": "https://localhost:8080/"
        },
        "id": "Quj169tgtJA4",
        "outputId": "e80fc655-07be-4627-8728-99399b7f95a7"
      },
      "execution_count": null,
      "outputs": [
        {
          "output_type": "execute_result",
          "data": {
            "text/plain": [
              "PREMIUM_CUSTOMER  LIFESTAGE             \n",
              "Mainstream        RETIREES                  21466\n",
              "                  YOUNG SINGLES/COUPLES     20854\n",
              "                  OLDER SINGLES/COUPLES     18318\n",
              "                  OLDER FAMILIES            14244\n",
              "                  YOUNG FAMILIES            12907\n",
              "                  MIDAGE SINGLES/COUPLES    11874\n",
              "                  NEW FAMILIES               2325\n",
              "dtype: int64"
            ]
          },
          "metadata": {},
          "execution_count": 32
        }
      ]
    },
    {
      "cell_type": "code",
      "source": [
        "lifestage_counts = mainstream_main_df['LIFESTAGE'].value_counts()\n",
        "plt.barh(lifestage_counts.index, lifestage_counts.values)\n",
        "\n",
        "\n",
        "plt.xlabel('Values')\n",
        "plt.ylabel('Categories')\n",
        "plt.title('Mainstream Lifestage')\n",
        "\n",
        "plt.xticks(rotation=45)\n",
        "\n",
        "\n",
        "plt.tight_layout()\n",
        "plt.show()\n"
      ],
      "metadata": {
        "colab": {
          "base_uri": "https://localhost:8080/",
          "height": 487
        },
        "id": "p0Jyoimcv4lV",
        "outputId": "ad623eec-a4a2-44ed-9df0-0f377c6163ba"
      },
      "execution_count": null,
      "outputs": [
        {
          "output_type": "display_data",
          "data": {
            "text/plain": [
              "<Figure size 640x480 with 1 Axes>"
            ],
            "image/png": "[encoded data removed]"
          },
          "metadata": {}
        }
      ]
    },
    {
      "cell_type": "markdown",
      "source": [
        "# Desember is month biggest buy"
      ],
      "metadata": {
        "id": "tbIbE-zvmsGN"
      }
    },
    {
      "cell_type": "code",
      "source": [
        "df['DATE'] = pd.to_datetime(df['DATE'])\n",
        "\n",
        "df['month'] = df['DATE'].dt.month\n",
        "\n",
        "month_counts = df['month'].value_counts()\n",
        "\n",
        "most_common_month = month_counts.idxmax()\n",
        "\n",
        "\n",
        "month_name = pd.to_datetime(str(most_common_month), format='%m').strftime('%B')\n",
        "\n",
        "print(f\"The most common month is {month_name} ({most_common_month}).\")"
      ],
      "metadata": {
        "colab": {
          "base_uri": "https://localhost:8080/"
        },
        "id": "ueHef1ICOUxi",
        "outputId": "0d269605-84e8-480c-fa34-9d1edf0ce93e"
      },
      "execution_count": null,
      "outputs": [
        {
          "output_type": "stream",
          "name": "stdout",
          "text": [
            "The most common month is December (12).\n"
          ]
        }
      ]
    },
    {
      "cell_type": "code",
      "source": [
        "df['DATE'] = pd.to_datetime(df['DATE'])\n",
        "\n",
        "\n",
        "df['month'] = df['DATE'].dt.month\n",
        "\n",
        "\n",
        "month_counts = df['month'].value_counts()\n",
        "\n",
        "\n",
        "sorted_month_counts = month_counts.sort_index()\n",
        "\n",
        "\n",
        "month_names = [pd.to_datetime(str(month), format='%m').strftime('%B') for month in sorted_month_counts.index]\n",
        "\n",
        "\n",
        "plt.figure(figsize=(15, 10))\n",
        "plt.bar(month_names, sorted_month_counts.values)\n",
        "plt.xlabel('Month')\n",
        "plt.ylabel('Occurrences')\n",
        "plt.title('Occurrences of Each Month')\n",
        "plt.xticks(rotation=45)\n",
        "plt.show()"
      ],
      "metadata": {
        "colab": {
          "base_uri": "https://localhost:8080/",
          "height": 866
        },
        "id": "XdYHv38eO_GG",
        "outputId": "11742ae2-05cc-4e20-fb77-da42ef0612d6"
      },
      "execution_count": null,
      "outputs": [
        {
          "output_type": "display_data",
          "data": {
            "text/plain": [
              "<Figure size 1500x1000 with 1 Axes>"
            ],
            "image/png": "[encoded data removed]"
          },
          "metadata": {}
        }
      ]
    },
    {
      "cell_type": "code",
      "source": [],
      "metadata": {
        "id": "kIKO4Z0qPfJ3"
      },
      "execution_count": null,
      "outputs": []
    }
  ]
}